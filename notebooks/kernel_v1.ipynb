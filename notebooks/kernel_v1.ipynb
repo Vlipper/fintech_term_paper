{
  "nbformat": 4,
  "nbformat_minor": 0,
  "metadata": {
    "colab": {
      "name": "kernel_v1.ipynb",
      "version": "0.3.2",
      "provenance": [],
      "collapsed_sections": [],
      "toc_visible": true
    },
    "kernelspec": {
      "name": "python3",
      "display_name": "Python 3"
    },
    "accelerator": "GPU"
  },
  "cells": [
    {
      "metadata": {
        "id": "4O4kyTYg0i8I",
        "colab_type": "text"
      },
      "cell_type": "markdown",
      "source": [
        "# Importing"
      ]
    },
    {
      "metadata": {
        "id": "fq0fJcaeXEWc",
        "colab_type": "code",
        "colab": {}
      },
      "cell_type": "code",
      "source": [
        "# from google.colab import drive\n",
        "# drive.mount('/gdrive')\n",
        "\n",
        "# ! pip install -q kaggle\n",
        "\n",
        "# ! mkdir ~/.kaggle\n",
        "# ! cp /gdrive/My\\ Drive/Colab\\ Notebooks/Kaggle/kaggle.json ~/.kaggle/\n",
        "\n",
        "# ! chmod 600 ~/.kaggle/kaggle.json\n",
        "\n",
        "# # ! kaggle competitions list\n",
        "# ! kaggle competitions download -c humpback-whale-identification -p /content/whale/\n",
        "\n",
        "# ! unzip -q /content/whale/train.zip -d /content/whale/train\n",
        "# ! unzip -q /content/whale/test.zip -d /content/whale/test"
      ],
      "execution_count": 0,
      "outputs": []
    },
    {
      "metadata": {
        "_uuid": "fa198cf62a1f63298f9f5b41d144dda811084027",
        "id": "eJwkZEDpW9rI",
        "colab_type": "code",
        "colab": {}
      },
      "cell_type": "code",
      "source": [
        "import os\n",
        "import sys\n",
        "import time\n",
        "import pickle\n",
        "from functools import partial\n",
        "import multiprocessing\n",
        "import multiprocessing.dummy\n",
        "num_cores = multiprocessing.cpu_count()\n",
        "\n",
        "import numpy as np\n",
        "import pandas as pd\n",
        "\n",
        "import matplotlib.pyplot as plt\n",
        "import seaborn as sns\n",
        "from PIL import Image\n",
        "import cv2\n",
        "\n",
        "from sklearn.preprocessing import LabelEncoder\n",
        "\n",
        "import torch\n",
        "import torch.nn as nn\n",
        "import torch.nn.functional as F\n",
        "import torch.optim as optim\n",
        "from torch.utils.data import Dataset, DataLoader\n",
        "from torch.utils.data.sampler import BatchSampler # Sampler,\n",
        "cuda = torch.device('cuda')\n",
        "cpu = torch.device('cpu')\n",
        "\n",
        "import torchvision\n",
        "from torchvision import models, transforms\n",
        "\n",
        "from tqdm import tqdm\n",
        "from IPython.display import clear_output\n",
        "\n",
        "gdrive_path = '/gdrive/My Drive/Colab Notebooks/Kaggle/Whales_classification/'"
      ],
      "execution_count": 0,
      "outputs": []
    },
    {
      "metadata": {
        "_uuid": "129702005d4fd98f855481b8973b1102b366dc35",
        "id": "XleZI3RfW9rS",
        "colab_type": "code",
        "colab": {}
      },
      "cell_type": "code",
      "source": [
        "labels = pd.read_csv('./whale/train.csv')\n",
        "\n",
        "# labels.head(5)"
      ],
      "execution_count": 0,
      "outputs": []
    },
    {
      "metadata": {
        "_uuid": "6b4d0bff12110221fa28b5085062dd74bcb50565",
        "id": "VMyMvpIpW9rd",
        "colab_type": "code",
        "outputId": "3e8b4eba-b713-41c6-fa36-197865e63e39",
        "colab": {
          "base_uri": "https://localhost:8080/",
          "height": 204
        }
      },
      "cell_type": "code",
      "source": [
        "lblenc = LabelEncoder()\n",
        "\n",
        "lblenc.fit(labels['Id'])\n",
        "labels_encoded = lblenc.transform(labels['Id'])\n",
        "nw_label_enc = lblenc.transform(['new_whale'])[0] # нужно будет в Dataset\n",
        "\n",
        "labels['Id_enc'] = labels_encoded\n",
        "labels.head(5)"
      ],
      "execution_count": 45,
      "outputs": [
        {
          "output_type": "execute_result",
          "data": {
            "text/html": [
              "<div>\n",
              "<style scoped>\n",
              "    .dataframe tbody tr th:only-of-type {\n",
              "        vertical-align: middle;\n",
              "    }\n",
              "\n",
              "    .dataframe tbody tr th {\n",
              "        vertical-align: top;\n",
              "    }\n",
              "\n",
              "    .dataframe thead th {\n",
              "        text-align: right;\n",
              "    }\n",
              "</style>\n",
              "<table border=\"1\" class=\"dataframe\">\n",
              "  <thead>\n",
              "    <tr style=\"text-align: right;\">\n",
              "      <th></th>\n",
              "      <th>Image</th>\n",
              "      <th>Id</th>\n",
              "      <th>Id_enc</th>\n",
              "    </tr>\n",
              "  </thead>\n",
              "  <tbody>\n",
              "    <tr>\n",
              "      <th>0</th>\n",
              "      <td>0000e88ab.jpg</td>\n",
              "      <td>w_f48451c</td>\n",
              "      <td>4786</td>\n",
              "    </tr>\n",
              "    <tr>\n",
              "      <th>1</th>\n",
              "      <td>0001f9222.jpg</td>\n",
              "      <td>w_c3d896a</td>\n",
              "      <td>3808</td>\n",
              "    </tr>\n",
              "    <tr>\n",
              "      <th>2</th>\n",
              "      <td>00029d126.jpg</td>\n",
              "      <td>w_20df2c5</td>\n",
              "      <td>662</td>\n",
              "    </tr>\n",
              "    <tr>\n",
              "      <th>3</th>\n",
              "      <td>00050a15a.jpg</td>\n",
              "      <td>new_whale</td>\n",
              "      <td>0</td>\n",
              "    </tr>\n",
              "    <tr>\n",
              "      <th>4</th>\n",
              "      <td>0005c1ef8.jpg</td>\n",
              "      <td>new_whale</td>\n",
              "      <td>0</td>\n",
              "    </tr>\n",
              "  </tbody>\n",
              "</table>\n",
              "</div>"
            ],
            "text/plain": [
              "           Image         Id  Id_enc\n",
              "0  0000e88ab.jpg  w_f48451c    4786\n",
              "1  0001f9222.jpg  w_c3d896a    3808\n",
              "2  00029d126.jpg  w_20df2c5     662\n",
              "3  00050a15a.jpg  new_whale       0\n",
              "4  0005c1ef8.jpg  new_whale       0"
            ]
          },
          "metadata": {
            "tags": []
          },
          "execution_count": 45
        }
      ]
    },
    {
      "metadata": {
        "_uuid": "2f16114b06aa741889262e4e511caa36ead959b2",
        "id": "4Xsgbz7fW9ro",
        "colab_type": "code",
        "outputId": "618860e4-76f9-48ec-e485-29e675d4abcf",
        "colab": {
          "base_uri": "https://localhost:8080/",
          "height": 51
        }
      },
      "cell_type": "code",
      "source": [
        "print('train size: ', labels.shape[0])\n",
        "print('num of classes: ', lblenc.classes_.shape[0])"
      ],
      "execution_count": 46,
      "outputs": [
        {
          "output_type": "stream",
          "text": [
            "train size:  25361\n",
            "num of classes:  5005\n"
          ],
          "name": "stdout"
        }
      ]
    },
    {
      "metadata": {
        "_uuid": "22656e023c125de400658d841327afc45740a262",
        "id": "_p-AQeL-W9r4",
        "colab_type": "code",
        "outputId": "3d9c0293-b20c-4778-9bb7-02fbbc7f2b38",
        "colab": {
          "base_uri": "https://localhost:8080/",
          "height": 204
        }
      },
      "cell_type": "code",
      "source": [
        "labels_counter = pd.DataFrame(\n",
        "    {'label': np.unique(labels['Id_enc'], return_counts=True)[0],\n",
        "     'count': np.unique(labels['Id_enc'], return_counts=True)[1]}\n",
        ")\n",
        "\n",
        "labels_counter = labels_counter.sort_values(by='count', ascending=False)\n",
        "labels_counter = labels_counter.reset_index(drop=True)\n",
        "\n",
        "labels_counter.head()"
      ],
      "execution_count": 47,
      "outputs": [
        {
          "output_type": "execute_result",
          "data": {
            "text/html": [
              "<div>\n",
              "<style scoped>\n",
              "    .dataframe tbody tr th:only-of-type {\n",
              "        vertical-align: middle;\n",
              "    }\n",
              "\n",
              "    .dataframe tbody tr th {\n",
              "        vertical-align: top;\n",
              "    }\n",
              "\n",
              "    .dataframe thead th {\n",
              "        text-align: right;\n",
              "    }\n",
              "</style>\n",
              "<table border=\"1\" class=\"dataframe\">\n",
              "  <thead>\n",
              "    <tr style=\"text-align: right;\">\n",
              "      <th></th>\n",
              "      <th>count</th>\n",
              "      <th>label</th>\n",
              "    </tr>\n",
              "  </thead>\n",
              "  <tbody>\n",
              "    <tr>\n",
              "      <th>0</th>\n",
              "      <td>9664</td>\n",
              "      <td>0</td>\n",
              "    </tr>\n",
              "    <tr>\n",
              "      <th>1</th>\n",
              "      <td>73</td>\n",
              "      <td>712</td>\n",
              "    </tr>\n",
              "    <tr>\n",
              "      <th>2</th>\n",
              "      <td>65</td>\n",
              "      <td>3029</td>\n",
              "    </tr>\n",
              "    <tr>\n",
              "      <th>3</th>\n",
              "      <td>62</td>\n",
              "      <td>3049</td>\n",
              "    </tr>\n",
              "    <tr>\n",
              "      <th>4</th>\n",
              "      <td>61</td>\n",
              "      <td>64</td>\n",
              "    </tr>\n",
              "  </tbody>\n",
              "</table>\n",
              "</div>"
            ],
            "text/plain": [
              "   count  label\n",
              "0   9664      0\n",
              "1     73    712\n",
              "2     65   3029\n",
              "3     62   3049\n",
              "4     61     64"
            ]
          },
          "metadata": {
            "tags": []
          },
          "execution_count": 47
        }
      ]
    },
    {
      "metadata": {
        "_uuid": "e75a251ff6284c714ae4debca38dbe4b9a31153e",
        "scrolled": true,
        "id": "Z9QxfxxUW9sD",
        "colab_type": "code",
        "outputId": "3b99233f-88bf-4c52-8d9e-4774e79fb9e2",
        "colab": {
          "base_uri": "https://localhost:8080/",
          "height": 353
        }
      },
      "cell_type": "code",
      "source": [
        "plt.figure(figsize=(15, 5))\n",
        "plt.hist(labels_counter['count'], \n",
        "         bins=np.sort(labels_counter['count'].unique())[:-1], \n",
        "         rwidth=0.7)\n",
        "\n",
        "plt.xticks([x for x in range(1, 74)], rotation=60)\n",
        "# plt.xticks(np.sort(labels_counter['count'].unique())[:-1], rotation=60)\n",
        "# plt.xlim(1, 25)\n",
        "plt.title('Distribution of distribution of classes')\n",
        "plt.xlabel('value from distribution of classes')\n",
        "plt.ylabel('frequency')\n",
        "plt.show()"
      ],
      "execution_count": 48,
      "outputs": [
        {
          "output_type": "display_data",
          "data": {
            "image/png": "[encoded data removed]",
            "text/plain": [
              "<Figure size 1080x360 with 1 Axes>"
            ]
          },
          "metadata": {
            "tags": []
          }
        }
      ]
    },
    {
      "metadata": {
        "id": "7z1JCVh--wtS",
        "colab_type": "code",
        "outputId": "f23e2573-f609-4832-a6dc-7c67438e24a2",
        "colab": {
          "base_uri": "https://localhost:8080/",
          "height": 170
        }
      },
      "cell_type": "code",
      "source": [
        "for i in range(1, 10):\n",
        "    print(i, '\\t', labels_counter[labels_counter['count'] == i].shape[0])"
      ],
      "execution_count": 49,
      "outputs": [
        {
          "output_type": "stream",
          "text": [
            "1 \t 2073\n",
            "2 \t 1285\n",
            "3 \t 568\n",
            "4 \t 273\n",
            "5 \t 172\n",
            "6 \t 136\n",
            "7 \t 86\n",
            "8 \t 76\n",
            "9 \t 62\n"
          ],
          "name": "stdout"
        }
      ]
    },
    {
      "metadata": {
        "_uuid": "ed8adafd11a814cfeb07decc8d830ce973295e32",
        "id": "0qGUXo8KW9sL",
        "colab_type": "text"
      },
      "cell_type": "markdown",
      "source": [
        "# Data clearing"
      ]
    },
    {
      "metadata": {
        "_uuid": "4c5029f0774051d4803c368b51699ec7b19e1b1e",
        "id": "iwYCIjq-W9sO",
        "colab_type": "code",
        "colab": {}
      },
      "cell_type": "code",
      "source": [
        "# Изначальные данные:\n",
        "\n",
        "labels_set_initial = set(labels['Id_enc'])\n",
        "label_to_indices_initial = {label: np.where(labels['Id_enc'] == label)[0] \n",
        "                            for label in labels_set_initial}"
      ],
      "execution_count": 0,
      "outputs": []
    },
    {
      "metadata": {
        "_uuid": "d0f991be97040f879a9bf13a84a9ad9e2a8132db",
        "id": "0GjDOLHUW9sV",
        "colab_type": "code",
        "colab": {}
      },
      "cell_type": "code",
      "source": [
        "# Данные без классов, у которых только одна картинка:\n",
        "#  (мб выкинуть классы с двумя картиками?)\n",
        "\n",
        "lonely_labels = []\n",
        "for key in label_to_indices_initial:\n",
        "    if len(label_to_indices_initial[key]) == 1:\n",
        "        lonely_labels.append(key)\n",
        "\n",
        "labels_without_singles = labels[~labels['Id_enc'].isin(lonely_labels)]\n",
        "labels_without_singles = labels_without_singles.reset_index(drop=True)"
      ],
      "execution_count": 0,
      "outputs": []
    },
    {
      "metadata": {
        "_uuid": "bb7d670741fd5f176412633c2425e20d7bc82a35",
        "id": "ejkb3eFyW9sk",
        "colab_type": "code",
        "colab": {}
      },
      "cell_type": "code",
      "source": [
        "random_state = np.random.RandomState(42)\n",
        "\n",
        "max_chosen_labels = {\n",
        "    # len(label imgs): max(chosen imgs)\n",
        "    1: 0,\n",
        "    2: int(4500 * 0.15),\n",
        "    3: int(4500 * 0.05),\n",
        "    'other': int(4500 * 0.5)\n",
        "}\n",
        "\n",
        "current_chosen_labels = {\n",
        "    0: 0,\n",
        "    2: 0,\n",
        "    3: 0,\n",
        "    'other': 0\n",
        "}\n",
        "val_indxs = np.empty(0)\n",
        "for key in label_to_indices_initial:\n",
        "    if key == nw_label_enc:\n",
        "        chosen_indxs = random_state.choice(label_to_indices_initial[key], int(4500*0.3), replace=False)\n",
        "        val_indxs = np.append(val_indxs, chosen_indxs)\n",
        "    elif len(label_to_indices_initial[key]) == 2 and \\\n",
        "    current_chosen_labels[2] < max_chosen_labels[2]:\n",
        "        chosen_indxs = random_state.choice(label_to_indices_initial[key], 1)\n",
        "        val_indxs = np.append(val_indxs, chosen_indxs)\n",
        "        current_chosen_labels[2] += 1\n",
        "    elif len(label_to_indices_initial[key]) == 3 and \\\n",
        "    current_chosen_labels[3] < max_chosen_labels[3]:\n",
        "        chosen_indxs = random_state.choice(label_to_indices_initial[key], 1)\n",
        "        val_indxs = np.append(val_indxs, chosen_indxs)\n",
        "        current_chosen_labels[3] += 1\n",
        "\n",
        "indxs_to_exclude_for_val = np.empty(0)\n",
        "indxs_to_exclude_for_val = np.append(indxs_to_exclude_for_val, label_to_indices_initial[0])\n",
        "\n",
        "labels_with_2_3_imgs = np.array(labels_counter[(labels_counter['count'] >= 1) & \n",
        "                                               (labels_counter['count'] <= 3)]['label'])\n",
        "for label in labels_with_2_3_imgs:\n",
        "    indxs_to_exclude_for_val = np.append(indxs_to_exclude_for_val, \n",
        "                                         label_to_indices_initial[label])\n",
        "\n",
        "# np.all(np.isin(val_indxs, indxs_to_exclude_for_val))\n",
        "chosen_indxs = random_state.choice(\n",
        "    np.array(list(set([*labels.index]) - set(indxs_to_exclude_for_val))), \n",
        "    max_chosen_labels['other'], replace=False)\n",
        "val_indxs = np.append(val_indxs, chosen_indxs)\n",
        "val_indxs = val_indxs.astype(int)"
      ],
      "execution_count": 0,
      "outputs": []
    },
    {
      "metadata": {
        "id": "nwqPG0c6zhEl",
        "colab_type": "code",
        "colab": {}
      },
      "cell_type": "code",
      "source": [
        "new_train_indxs = np.array(list(set([*labels.index]) - set(val_indxs)))\n",
        "new_train_labels_with = labels.iloc[new_train_indxs]\n",
        "new_train_labels_with = new_train_labels_with.reset_index(drop=True)\n",
        "\n",
        "\n",
        "labels_set_new = set(new_train_labels_with['Id_enc'])\n",
        "label_to_indices_new = {label: np.where(new_train_labels_with['Id_enc'] == label)[0] \n",
        "                        for label in labels_set_new}\n",
        "\n",
        "lonely_labels_new = []\n",
        "for key in label_to_indices_new:\n",
        "    if len(label_to_indices_new[key]) == 1:\n",
        "        lonely_labels_new.append(key)\n",
        "\n",
        "new_train_labels_without = new_train_labels_with[~new_train_labels_with['Id_enc'].isin(lonely_labels_new)]\n",
        "new_train_labels_without = new_train_labels_without.reset_index(drop=True)\n",
        "\n",
        "val_labels_df = labels.iloc[val_indxs]\n",
        "val_labels_df = val_labels_df.reset_index(drop=True)\n",
        "\n",
        "test_df = os.listdir('/content/whale/test/')\n",
        "test_df = pd.DataFrame({'Image': test_df})"
      ],
      "execution_count": 0,
      "outputs": []
    },
    {
      "metadata": {
        "id": "ZulFxIghuw8q",
        "colab_type": "code",
        "outputId": "06b123da-3793-42fd-fe67-75fa6b1f501d",
        "colab": {
          "base_uri": "https://localhost:8080/",
          "height": 119
        }
      },
      "cell_type": "code",
      "source": [
        "print(\n",
        "    'initial labels:', labels.shape, '\\n',\n",
        "    'initial labels without lonelis:', labels_without_singles.shape, '\\n',\n",
        "    'new train labels with lonelis:', new_train_labels_with.shape, '\\n',\n",
        "    'new train labels without lonelis:', new_train_labels_without.shape, '\\n',\n",
        "    'val labels with lonelies:', val_labels_df.shape, '\\n',\n",
        "    'test df:', test_df.shape\n",
        ")\n",
        "\n",
        "# new_train_labels_without.groupby('Id_enc').agg('count').groupby('Image').count()"
      ],
      "execution_count": 54,
      "outputs": [
        {
          "output_type": "stream",
          "text": [
            "initial labels: (25361, 3) \n",
            " initial labels without lonelis: (23288, 3) \n",
            " new train labels with lonelis: (20861, 3) \n",
            " new train labels without lonelis: (18098, 3) \n",
            " val labels with lonelies: (4500, 3) \n",
            " test df: (7960, 1)\n"
          ],
          "name": "stdout"
        }
      ]
    },
    {
      "metadata": {
        "_uuid": "7a6d207a49eac2e90414c595b02c055878191303",
        "id": "9LoIi_OOW9s0",
        "colab_type": "text"
      },
      "cell_type": "markdown",
      "source": [
        "# Datasets, dataloaders, etc."
      ]
    },
    {
      "metadata": {
        "id": "xMoKUTZZEbYH",
        "colab_type": "code",
        "colab": {}
      },
      "cell_type": "code",
      "source": [
        "# # %%time\n",
        "# def res_save(item, source_path_nested, resized_path_nested):\n",
        "#     im = Image.open(source_path_nested + item)\n",
        "#     f, _ = os.path.splitext(source_path_nested + item)\n",
        "#     imResize = im.resize((224, 224), Image.ANTIALIAS)\n",
        "#     imResize.save(resized_path_nested + item, 'JPEG', quality=95)\n",
        "\n",
        "# # train resizing\n",
        "# res_save_item = partial(res_save, \n",
        "#                         source_path_nested='/content/whale/train/', \n",
        "#                         resized_path_nested='/content/whale/train_resized/')\n",
        "\n",
        "# ! mkdir /content/whale/train_resized/\n",
        "# with multiprocessing.Pool(num_cores) as p:\n",
        "#     p.map(res_save_item, os.listdir('/content/whale/train/'))\n",
        "\n",
        "# # test resizing\n",
        "# res_save_item = partial(res_save, \n",
        "#                         source_path_nested='/content/whale/test/', \n",
        "#                         resized_path_nested='/content/whale/test_resized/')\n",
        "\n",
        "# ! mkdir /content/whale/test_resized/\n",
        "# with multiprocessing.Pool(num_cores) as p:\n",
        "#     p.map(res_save_item, os.listdir('/content/whale/test/'))"
      ],
      "execution_count": 0,
      "outputs": []
    },
    {
      "metadata": {
        "id": "gnPe-D8EnHJa",
        "colab_type": "code",
        "colab": {}
      },
      "cell_type": "code",
      "source": [
        "# WhaleDataset version for model with making triplets after getting embeddings\n",
        "\n",
        "class WhaleDataset(Dataset):\n",
        "    def __init__(self, dataset_folder, labels_df, img_loader, transform=None):\n",
        "        self.dataset_folder = dataset_folder\n",
        "        self.labels_df = labels_df\n",
        "        self.transform = transform\n",
        "        self.img_loader = img_loader\n",
        "        \n",
        "        self.image_names = labels_df['Image']\n",
        "        self.image_labels = labels_df['Id_enc']\n",
        "    \n",
        "    def __len__(self):\n",
        "        return labels_df.shape[0]\n",
        "    \n",
        "    def __getitem__(self, index):\n",
        "#         img = Image.open(self.dataset_folder + self.image_names[index]).convert('RGB')\n",
        "        img = self.img_loader(self.dataset_folder + self.image_names[index])\n",
        "        img_label = self.image_labels[index]\n",
        "        \n",
        "        if self.transform is not None:\n",
        "            img = self.transform(img)\n",
        "\n",
        "        return img, img_label"
      ],
      "execution_count": 0,
      "outputs": []
    },
    {
      "metadata": {
        "id": "24v_oNAH0eZU",
        "colab_type": "code",
        "colab": {}
      },
      "cell_type": "code",
      "source": [
        "class WhaleSampler(BatchSampler):\n",
        "    def __init__(self, labels:np.ndarray, batch_size):\n",
        "        self.labels = labels\n",
        "        \n",
        "        self.labels_unique = np.unique(labels)\n",
        "        # del nw_class\n",
        "        self.labels_unique = np.delete(self.labels_unique, \n",
        "                                       np.where(self.labels_unique == nw_label_enc)[0])\n",
        "        # mix (just in case)\n",
        "        self.labels_unique = np.random.choice(self.labels_unique, \n",
        "                                              len(self.labels_unique), \n",
        "                                              replace=False)\n",
        "        self.labels_unique_len = len(self.labels_unique)\n",
        "        \n",
        "        self.labels_indxs = np.arange(len(labels))\n",
        "        self.label_to_indxs = {label: np.where(labels == label)[0] \n",
        "                               for label in self.labels_unique}\n",
        "        \n",
        "        self.batch_size = batch_size\n",
        "        self.batch_size_half = batch_size // 2\n",
        "        \n",
        "    \n",
        "    def __iter__(self):\n",
        "        current_label = self.labels_unique[0]\n",
        "        while current_label in self.labels_unique:\n",
        "            batch = []\n",
        "            \n",
        "            # batching positives\n",
        "            batched_positives_num = 0\n",
        "            while batched_positives_num < self.batch_size_half:\n",
        "                current_label_indxs = self.label_to_indxs[current_label]\n",
        "                current_label_indxs_len = len(current_label_indxs)\n",
        "                \n",
        "                # get positives from current_label\n",
        "                if current_label_indxs_len < self.batch_size_half - batched_positives_num:\n",
        "                    batch.extend(current_label_indxs)\n",
        "                    \n",
        "                    batched_positives_num += current_label_indxs_len\n",
        "                    \n",
        "                    next_label_pos = np.where(self.labels_unique == current_label)[0][0] + 1\n",
        "                    if next_label_pos < self.labels_unique_len - 1:\n",
        "                        current_label = self.labels_unique[next_label_pos]\n",
        "                    else: \n",
        "                        current_label = 1e+6 # only for out from self.labels_unique\n",
        "                        break\n",
        "                else:\n",
        "                    batch.extend(\n",
        "                        np.random.choice(current_label_indxs, \n",
        "                                         self.batch_size_half - batched_positives_num, \n",
        "                                         replace=False)\n",
        "                    )\n",
        "                    \n",
        "                    batched_positives_num += self.batch_size_half\n",
        "                    \n",
        "                    next_label_pos = np.where(self.labels_unique == current_label)[0][0] + 1\n",
        "                    if next_label_pos < self.labels_unique_len - 1:\n",
        "                        current_label = self.labels_unique[next_label_pos]\n",
        "                    else: \n",
        "                        current_label = 1e+6 # only for out from self.labels_unique\n",
        "                        break\n",
        "                \n",
        "            # batching negatives\n",
        "            batch.extend(\n",
        "                np.random.choice(self.labels_indxs, \n",
        "                                 self.batch_size - self.batch_size_half, \n",
        "                                 replace=False)\n",
        "            )\n",
        "            \n",
        "            yield batch"
      ],
      "execution_count": 0,
      "outputs": []
    },
    {
      "metadata": {
        "id": "vgsZcvH2VxOs",
        "colab_type": "code",
        "colab": {}
      },
      "cell_type": "code",
      "source": [
        "mean = [0.485, 0.456, 0.406]\n",
        "std = [0.229, 0.224, 0.225]\n",
        "\n",
        "data_transforms = transforms.Compose([\n",
        "#     transforms.ToPILImage(),\n",
        "#     transforms.Resize((224, 224)),\n",
        "    transforms.ToTensor(),\n",
        "    transforms.Normalize(mean, std)\n",
        "])\n",
        "\n",
        "def imgshow_tensor(img):\n",
        "    img = img.numpy().transpose((1,2,0))\n",
        "    img = img * std + mean\n",
        "    plt.imshow(img)\n",
        "    plt.grid(False)\n",
        "    plt.pause(0.01)"
      ],
      "execution_count": 0,
      "outputs": []
    },
    {
      "metadata": {
        "id": "e_dQirKprbid",
        "colab_type": "code",
        "colab": {}
      },
      "cell_type": "code",
      "source": [
        "class WhaleDataset_val(Dataset):\n",
        "    def __init__(self, dataset_folder, labels_df, mode='val', transform=None):\n",
        "        self.dataset_folder = dataset_folder\n",
        "        self.labels_df = labels_df\n",
        "        self.image_names = labels_df['Image']\n",
        "        self.mode = mode\n",
        "        self.transform = transform\n",
        "        \n",
        "        if mode == 'val':\n",
        "            self.not_nw_indxs = labels_df[labels_df['Id'] != 'new_whale'].index\n",
        "            self.labels_set = set(labels_df['Id_enc'])\n",
        "            self.label_to_indices = {label: np.where(labels_df['Id_enc'] == label)[0]\n",
        "                                     for label in self.labels_set}\n",
        "            \n",
        "            random_state = np.random.RandomState(42)\n",
        "            triplets = [\n",
        "                [\n",
        "                    self.image_names[indx],\n",
        "                    self.image_names[\n",
        "                        random_state.choice(\n",
        "                            self.label_to_indices[labels_df['Id_enc'][indx]]\n",
        "                        )\n",
        "                    ],\n",
        "                    self.image_names[\n",
        "                        random_state.choice(\n",
        "                            self.label_to_indices[\n",
        "                                np.random.choice(\n",
        "                                    list(\n",
        "                                        self.labels_set - set([labels_df['Id_enc'][indx]])\n",
        "                                    )\n",
        "                                )\n",
        "                            ]\n",
        "                        )\n",
        "                    ]\n",
        "                ]\n",
        "                for indx in self.not_nw_indxs\n",
        "            ]\n",
        "            self.triplets = triplets\n",
        "    \n",
        "    def __len__(self):\n",
        "        if self.mode != 'test':\n",
        "            return len(self.not_nw_indxs)\n",
        "        elif self.mode == 'test':\n",
        "            return self.labels_df.shape[0]\n",
        "    \n",
        "    def __getitem__(self, index):\n",
        "        if self.mode == 'val':\n",
        "            path1, path2, path3 = self.triplets[index]\n",
        "            img1 = Image.open(self.dataset_folder + path1).convert('RGB')\n",
        "            img2 = Image.open(self.dataset_folder + path2).convert('RGB')\n",
        "            img3 = Image.open(self.dataset_folder + path3).convert('RGB')\n",
        "            \n",
        "            if self.transform is not None:\n",
        "                img1 = self.transform(img1)\n",
        "                img2 = self.transform(img2)\n",
        "                img3 = self.transform(img3)\n",
        "        \n",
        "            return img1, img2, img3\n",
        "        \n",
        "        elif self.mode == 'test':\n",
        "            img1 = Image.open(self.dataset_folder + self.image_names[index]).convert('RGB')\n",
        "            \n",
        "            if self.transform is not None:\n",
        "                img1 = self.transform(img1)\n",
        "            \n",
        "            return img1"
      ],
      "execution_count": 0,
      "outputs": []
    },
    {
      "metadata": {
        "id": "OGGtHl-eiZq8",
        "colab_type": "code",
        "colab": {}
      },
      "cell_type": "code",
      "source": [
        ""
      ],
      "execution_count": 0,
      "outputs": []
    },
    {
      "metadata": {
        "id": "dSdQlY59OtV-",
        "colab_type": "text"
      },
      "cell_type": "markdown",
      "source": [
        "# Make preds and metrics calculating"
      ]
    },
    {
      "metadata": {
        "id": "v6C4iHrNXIef",
        "colab_type": "code",
        "colab": {}
      },
      "cell_type": "code",
      "source": [
        "# mAP@5\n",
        "\n",
        "def map_per_image(label, predictions):\n",
        "    \"\"\"Computes the precision score of one image.\n",
        "\n",
        "    Parameters\n",
        "    ----------\n",
        "    label : string\n",
        "            The true label of the image\n",
        "    predictions : list\n",
        "            A list of predicted elements (order does matter, 5 predictions allowed per image)\n",
        "\n",
        "    Returns\n",
        "    -------\n",
        "    score : double\n",
        "    \"\"\"    \n",
        "    try:\n",
        "        return 1 / (predictions[:5].index(label) + 1)\n",
        "    except ValueError:\n",
        "        return 0.0\n",
        "\n",
        "def map_per_set(labels, predictions):\n",
        "    \"\"\"Computes the average over multiple images.\n",
        "\n",
        "    Parameters\n",
        "    ----------\n",
        "    labels : list\n",
        "             A list of the true labels. (Only one true label per images allowed!)\n",
        "    predictions : list of list\n",
        "             A list of predicted elements (order does matter, 5 predictions allowed per image)\n",
        "\n",
        "    Returns\n",
        "    -------\n",
        "    score : double\n",
        "    \"\"\"\n",
        "    return np.mean([map_per_image(l, p) for l, p in zip(labels, predictions)])"
      ],
      "execution_count": 0,
      "outputs": []
    },
    {
      "metadata": {
        "id": "99OqCfyp-RFt",
        "colab_type": "code",
        "colab": {}
      },
      "cell_type": "code",
      "source": [
        "def batch_gen(iterable, batch_size=1):\n",
        "    l = len(iterable)\n",
        "    for ndx in range(0, l, batch_size):\n",
        "        yield iterable[ndx:min(ndx + batch_size, l)]\n",
        "\n",
        "# def calc_dist(img, train_embdds):\n",
        "#     diff = img.reshape((-1, 1, 1000)) - train_embdds\n",
        "#     dist = np.linalg.norm(diff, axis=-1)\n",
        "#     return dist\n",
        "\n",
        "class make_preds():\n",
        "    def __init__(self):\n",
        "        self.dataset_folders = {'train': None, 'test': None}\n",
        "        self.label_dfs = {'train': None, 'test': None}\n",
        "        self.distances = None\n",
        "        self.len_embdd = None\n",
        "\n",
        "\n",
        "    def calc_embeddings(self, model, embedding_type,\n",
        "                       dataset_folder, labels_df, transforms, \n",
        "                       batch_size=2**5, num_workers=4):\n",
        "        assert embedding_type in ['train', 'test'], \\\n",
        "            \"embedding_type must be in ['train', 'test']\"\n",
        "        self.dataset_folders.update({embedding_type: labels_df})\n",
        "        self.label_dfs.update({embedding_type: labels_df})\n",
        "        \n",
        "        model.to(cuda)\n",
        "        model.eval()\n",
        "\n",
        "        test_dataset = WhaleDataset_val(dataset_folder=dataset_folder, \n",
        "                                        labels_df=labels_df, \n",
        "                                        mode='test', \n",
        "                                        transform=transforms)\n",
        "        inference_loader = torch.utils.data.DataLoader(dataset=test_dataset, \n",
        "                                                       batch_size=batch_size, \n",
        "                                                       shuffle=False, \n",
        "                                                       num_workers=num_workers)\n",
        "\n",
        "        embeddings = torch.Tensor().to(cuda)\n",
        "\n",
        "        for data in tqdm(inference_loader, desc='calc embeddings', position=0):\n",
        "            data = data.to(cuda)\n",
        "\n",
        "            with torch.no_grad():        \n",
        "                embd = model.get_embedding(data)\n",
        "                embeddings = torch.cat((embeddings, embd))\n",
        "        \n",
        "        if embedding_type == 'train':\n",
        "            self.train_embdds = embeddings\n",
        "        elif embedding_type == 'test':\n",
        "            self.test_embdds = embeddings\n",
        "        \n",
        "        del test_dataset, inference_loader, data, embeddings\n",
        "\n",
        "\n",
        "    def get_distances(self, batch_dist_size=20):\n",
        "        self.num_train_embdds = self.train_embdds.shape[0]\n",
        "        self.num_test_embdds = self.test_embdds.shape[0]\n",
        "        self.len_embdd = self.test_embdds.shape[1]\n",
        "        \n",
        "        batch_indxs = [*batch_gen(np.arange(self.num_test_embdds), \n",
        "                                  batch_size=batch_dist_size)]\n",
        "        distances = torch.Tensor([]).view((0, self.num_train_embdds)).to(cuda)\n",
        "        \n",
        "        for batch in tqdm(batch_indxs, desc='calc distances', position=0):            \n",
        "            dist = torch.norm((self.test_embdds[batch].view(-1, 1, self.len_embdd) - self.train_embdds), \n",
        "                              dim=-1)\n",
        "            distances = torch.cat((distances, dist))\n",
        "        \n",
        "        self.distances = distances.to(cpu).numpy()\n",
        "        del dist, distances\n",
        "\n",
        "\n",
        "    def get_preds(self, num_preds=5, agg_func='min'):\n",
        "        distances = pd.DataFrame(self.distances.T)\n",
        "        distances['label'] = self.label_dfs['train']['Id_enc'].values\n",
        "        distances = distances.groupby('label').agg([agg_func]).values\n",
        "\n",
        "        self.pred_indxs = np.argsort(distances.T)\n",
        "        pred_labels = np.array([*map(lambda row: lblenc.inverse_transform(row), \n",
        "                                     self.pred_indxs[:, 0:num_preds])])\n",
        "\n",
        "        return pred_labels"
      ],
      "execution_count": 0,
      "outputs": []
    },
    {
      "metadata": {
        "id": "8IW2nPN_1Ofd",
        "colab_type": "code",
        "colab": {}
      },
      "cell_type": "code",
      "source": [
        ""
      ],
      "execution_count": 0,
      "outputs": []
    },
    {
      "metadata": {
        "_uuid": "6e4187774db71cc55a61cc83ddb66bd5d882ae39",
        "id": "sF3J4AM1W9ti",
        "colab_type": "text"
      },
      "cell_type": "markdown",
      "source": [
        "# Net architecture & training process"
      ]
    },
    {
      "metadata": {
        "_uuid": "4a4a5b0b67302aa1e01c062bb1bc814e4f53fec0",
        "id": "QNosih7ZW9tz",
        "colab_type": "code",
        "colab": {}
      },
      "cell_type": "code",
      "source": [
        "class siamese_net(nn.Module):\n",
        "    def __init__(self, encoder_net, loss_margin):\n",
        "        super(siamese_net, self).__init__()\n",
        "        self.encoder_net = encoder_net\n",
        "        self.loss_margin = loss_margin\n",
        "        \n",
        "    def forward(self, x, labels, size_average=True):\n",
        "        embeddings = self.encoder_net(x)\n",
        "        \n",
        "#         labels_indxs_out_nw = (labels != nw_label_enc).nonzero().squeeze()\n",
        "#         embeddings_out_nw = embeddings[labels_indxs_out_nw]\n",
        "#         labels_with_pos = labels[:batch_size // 2]\n",
        "        distances = torch.norm(\n",
        "            (embeddings[:batch_size // 2].view(-1, 1, embeddings.size()[-1]) - embeddings), dim=-1\n",
        "        )\n",
        "        \n",
        "        identities_matrix = labels[:batch_size // 2].view(-1, 1) - labels\n",
        "        \n",
        "        # getting distances for hard positives imgs\n",
        "        identities_mask_pos = identities_matrix == 0\n",
        "        identities_dist_pos = distances * identities_mask_pos.type(torch.cuda.FloatTensor)\n",
        "        dist_pos = torch.max(identities_dist_pos, dim=-1)[0]\n",
        "        \n",
        "        # getting distances for hard negatives imgs\n",
        "        identities_mask_neg = identities_matrix != 0\n",
        "        identities_dist_neg = distances * identities_mask_neg.type(torch.cuda.FloatTensor)\n",
        "        identities_dist_neg[identities_dist_neg == 0] = 1e+3 # needed just for not to brake min func\n",
        "        dist_neg = torch.min(identities_dist_neg, dim=-1)[0]\n",
        "        \n",
        "        #calc loss\n",
        "        losses = F.relu(dist_pos - dist_neg + self.loss_margin)\n",
        "        return losses.mean() if size_average else losses.sum()\n",
        "        \n",
        "    def get_embedding(self, x):\n",
        "        return self.encoder_net(x)\n",
        "    \n",
        "    def forward_val(self, x1, x2, x3):\n",
        "        x1 = self.encoder_net(x1)\n",
        "        x2 = self.encoder_net(x2)\n",
        "        x3 = self.encoder_net(x3)\n",
        "        \n",
        "        return x1, x2, x3"
      ],
      "execution_count": 0,
      "outputs": []
    },
    {
      "metadata": {
        "id": "0ekx9SmQX7n5",
        "colab_type": "code",
        "colab": {}
      },
      "cell_type": "code",
      "source": [
        "# resnet50 = models.resnet50(pretrained=True)\n",
        "\n",
        "# tst_net = siamese_net(encoder_net=resnet50)\n",
        "# tst_net.to(cuda)\n",
        "\n",
        "# for x, labels in tst_train_loader:\n",
        "#     x, labels = x.to(cuda), labels.to(cuda)\n",
        "    \n",
        "#     break"
      ],
      "execution_count": 0,
      "outputs": []
    },
    {
      "metadata": {
        "_uuid": "27c66f36b3a61afeaf95607b2280ad20c4c01db8",
        "id": "JOeYYN4rW9t3",
        "colab_type": "code",
        "colab": {}
      },
      "cell_type": "code",
      "source": [
        "def plot_save_logs(logs, model_name:str, y_lim=2.05, is_plot=True):\n",
        "    \"\"\"\n",
        "    logs example:\n",
        "    {\n",
        "        'loss': {\n",
        "            'train': [1, 1.5, 0.5, 0.3, 0.2],\n",
        "            'val_y': [0.5, 0.3],\n",
        "            'val_x': [600, 1200]\n",
        "        },\n",
        "        'metrics': {\n",
        "            'value': [...],\n",
        "            'epoch': [...]\n",
        "        }\n",
        "    }\n",
        "    \n",
        "    \"\"\"\n",
        "    with open(gdrive_path + model_name + '_logs.pkl', 'wb') as f:\n",
        "        pickle.dump(logs, f, pickle.HIGHEST_PROTOCOL)\n",
        "    \n",
        "    if is_plot == True:\n",
        "        fig, ax = plt.subplots(2, 1, figsize=(7, 10))\n",
        "\n",
        "        ax[0].plot(logs['loss']['train'], label='train', zorder=1)\n",
        "        ax[0].scatter(x=logs['loss']['val_x'], y=logs['loss']['val_y'], label='val', \n",
        "                      zorder=2, marker='+', s=180, c='orange')\n",
        "\n",
        "        ax[0].set(title = 'loss', xlabel='batch num', ylim=(-0.05, y_lim))\n",
        "        ax[0].legend(loc='best')\n",
        "        ax[0].grid(True)\n",
        "\n",
        "\n",
        "        ax[1].scatter(x=logs['metrics']['epoch'], y=logs['metrics']['value'], \n",
        "                      marker='+', s=180, c='blue')\n",
        "\n",
        "        ax[1].set(title = 'mAP', xlabel='epoch num')\n",
        "        ax[1].grid(True)\n",
        "\n",
        "        fig.tight_layout()\n",
        "        plt.show()"
      ],
      "execution_count": 0,
      "outputs": []
    },
    {
      "metadata": {
        "_uuid": "6f720aefd4ad5052acfd73dbe61cebd159dc051c",
        "id": "wMQ8D4JrW9t5",
        "colab_type": "code",
        "colab": {}
      },
      "cell_type": "code",
      "source": [
        "def train_model(model, optimizer, train_loader, num_epochs, \n",
        "                model_name, margin, val_loader=None): # loss_fn, \n",
        "    logs = {\n",
        "        'loss': {'train': [], 'val_y': [], 'val_x': []},\n",
        "        'metrics': {'value': [], 'epoch': []}\n",
        "    }\n",
        "    \n",
        "    model.to(cuda)\n",
        "    for epoch in range(num_epochs):\n",
        "        # training process\n",
        "        model.train()\n",
        "        for x, labels in tqdm(train_loader, desc='training', position=0):\n",
        "            optimizer.zero_grad()\n",
        "            x, labels = x.to(cuda, non_blocking=True), labels.to(cuda, non_blocking=True)\n",
        "            \n",
        "            loss = model.forward(x, labels)\n",
        "            \n",
        "            loss.backward()\n",
        "            optimizer.step()\n",
        "            \n",
        "            logs['loss']['train'].append(loss.item())\n",
        "            \n",
        "            # plot graphs\n",
        "            clear_output()\n",
        "            print('\\n', 'epoch=', epoch)\n",
        "            plot_save_logs(logs, model_name, is_plot=True)\n",
        "            \n",
        "        # validating process\n",
        "        if val_loader != None:\n",
        "            loss_val_batch = []\n",
        "            model.eval()\n",
        "            \n",
        "            # calculating loss\n",
        "            for data in tqdm(val_loader, desc='validation', position=0):\n",
        "                with torch.no_grad():\n",
        "                    data = tuple(d.to(cuda, non_blocking=True) for d in data)\n",
        "\n",
        "                    outputs = model.forward_val(*data)\n",
        "\n",
        "                    loss = F.triplet_margin_loss(*outputs, margin=margin).item() # 1\n",
        "                    loss_val_batch.append(loss)\n",
        "            \n",
        "            logs['loss']['val_y'].append(np.mean(loss_val_batch))\n",
        "            logs['loss']['val_x'].append(len(logs['loss']['train']) - 1)\n",
        "            \n",
        "            # calculating metrics\n",
        "            embedds_preds.calc_embeddings(model=model,\n",
        "                                          embedding_type='train',\n",
        "                                          dataset_folder='./whale/train_resized/',\n",
        "                                          labels_df=new_train_labels_with,\n",
        "                                          transforms=data_transforms)\n",
        "            embedds_preds.calc_embeddings(model=model,\n",
        "                                          embedding_type='test',\n",
        "                                          dataset_folder='./whale/train_resized/',\n",
        "                                          labels_df=val_labels_df,\n",
        "                                          transforms=data_transforms)\n",
        "            \n",
        "            embedds_preds.get_distances(batch_dist_size=10)\n",
        "            preds = embedds_preds.get_preds()\n",
        "            mean_ap = map_per_set(val_labels_df['Id'].values.tolist(), preds.tolist())\n",
        "            \n",
        "            logs['metrics']['value'].append(mean_ap)\n",
        "            logs['metrics']['epoch'].append(epoch)\n",
        "            \n",
        "            # plot graphs\n",
        "            clear_output()\n",
        "            plot_save_logs(logs, model_name, is_plot=True)\n",
        "        \n",
        "        # saving model\n",
        "        state = {'model': model.state_dict(), 'optimizer': optimizer.state_dict()}\n",
        "        save_path = gdrive_path + model_name + '_state.pth'\n",
        "        torch.save(state, save_path)"
      ],
      "execution_count": 0,
      "outputs": []
    },
    {
      "metadata": {
        "id": "fidqe704UJCr",
        "colab_type": "code",
        "colab": {}
      },
      "cell_type": "code",
      "source": [
        ""
      ],
      "execution_count": 0,
      "outputs": []
    },
    {
      "metadata": {
        "id": "mMQj-q6AUGGh",
        "colab_type": "text"
      },
      "cell_type": "markdown",
      "source": [
        "# Net training"
      ]
    },
    {
      "metadata": {
        "id": "dpqMpKWeUzKk",
        "colab_type": "code",
        "colab": {}
      },
      "cell_type": "code",
      "source": [
        "resnet50 = models.resnet50(pretrained=False)\n",
        "# resnet101 = models.resnet101(pretrained=False)\n",
        "\n",
        "encoder = resnet50"
      ],
      "execution_count": 0,
      "outputs": []
    },
    {
      "metadata": {
        "id": "McxedNiaUEox",
        "colab_type": "code",
        "colab": {}
      },
      "cell_type": "code",
      "source": [
        "# Encoder modifs\n",
        "\n",
        "# Modif version 0\n",
        "# encoder = nn.Sequential(*(list(encoder.children())[:-1]))\n",
        "\n",
        "# Modif version 1\n",
        "encoder.fc = nn.Sequential(nn.Linear(2048, 1024),\n",
        "                           nn.ReLU(),\n",
        "                           nn.Linear(1024, 256)\n",
        "                          )\n",
        "\n",
        "# Modif version 2\n",
        "# encoder.conv1 = nn.Conv2d(1, 64, kernel_size=7, stride=2, padding=3, bias=False)\n",
        "# encoder.fc = nn.Sequential(nn.Linear(2048, 1024),\n",
        "#                            nn.ReLU(),\n",
        "#                            nn.Linear(1024, 256)\n",
        "#                           )"
      ],
      "execution_count": 0,
      "outputs": []
    },
    {
      "metadata": {
        "_uuid": "5cd48580f1bce5bcc4113c69c2c39f325d850430",
        "id": "jLjBSmThW9t7",
        "colab_type": "code",
        "colab": {}
      },
      "cell_type": "code",
      "source": [
        "# training on train set with validation part\n",
        "pil_imopen = lambda x: Image.open(x).convert('RGB')\n",
        "\n",
        "\n",
        "new_train_dataset = WhaleDataset(dataset_folder='./whale/train_resized/',\n",
        "                                 labels_df=new_train_labels_without, # new_train_labels_without | val_labels_df\n",
        "                                 img_loader=pil_imopen,\n",
        "                                 transform=data_transforms) # data_transforms\n",
        "\n",
        "new_train_sampler = WhaleSampler(labels=new_train_labels_without['Id_enc'].values, \n",
        "                                 batch_size=100)\n",
        "\n",
        "train_loader = torch.utils.data.DataLoader(dataset=new_train_dataset,\n",
        "                                           batch_sampler=new_train_sampler,\n",
        "                                           shuffle=False,\n",
        "                                           num_workers=3,\n",
        "                                           pin_memory=True)\n",
        "\n",
        "\n",
        "val_dataset = WhaleDataset_val(dataset_folder='./whale/train_resized/', \n",
        "                               labels_df=val_labels_df, \n",
        "                               mode='val', \n",
        "                               transform=data_transforms)\n",
        "\n",
        "val_loader = torch.utils.data.DataLoader(dataset=val_dataset, \n",
        "                                         batch_size=32, \n",
        "                                         shuffle=False, \n",
        "                                         num_workers=3,\n",
        "                                         pin_memory=True)"
      ],
      "execution_count": 0,
      "outputs": []
    },
    {
      "metadata": {
        "id": "2UP4S7kbZxyi",
        "colab_type": "code",
        "colab": {}
      },
      "cell_type": "code",
      "source": [
        "# # TEMP_TEMP_TEMP\n",
        "\n",
        "# enc_resnet_101_cont = siamese_net(encoder_net=resnet101)\n",
        "# enc_resnet_101_cont.to(cuda)\n",
        "\n",
        "# optmzr = optim.Adam(enc_resnet_101_cont.parameters(), lr=1e-3)\n",
        "\n",
        "# state_path = gdrive_path + 'enc_resnet_101' + '_state.pth'\n",
        "# state = torch.load(state_path)\n",
        "\n",
        "# enc_resnet_101_cont.load_state_dict(state['model'])\n",
        "# optmzr.load_state_dict(state['optimizer'])\n",
        "\n",
        "# del state_path, state"
      ],
      "execution_count": 0,
      "outputs": []
    },
    {
      "metadata": {
        "id": "WXQ_hPdoNDNw",
        "colab_type": "code",
        "colab": {}
      },
      "cell_type": "code",
      "source": [
        "# os.listdir(gdrive_path)"
      ],
      "execution_count": 0,
      "outputs": []
    },
    {
      "metadata": {
        "id": "EnxOw0rVK52i",
        "colab_type": "code",
        "colab": {}
      },
      "cell_type": "code",
      "source": [
        "# # test for enc_resnet_50_without_nw_cont0\n",
        "\n",
        "# train_loader = torch.utils.data.DataLoader(dataset=new_train_dataset, \n",
        "#                                            batch_size=batch_size, \n",
        "#                                            shuffle=True, \n",
        "#                                            num_workers=2,\n",
        "#                                            pin_memory=True)\n",
        "# val_loader = torch.utils.data.DataLoader(dataset=val_dataset, \n",
        "#                                          batch_size=batch_size, \n",
        "#                                          shuffle=True, \n",
        "#                                          num_workers=2,\n",
        "#                                          pin_memory=True)"
      ],
      "execution_count": 0,
      "outputs": []
    },
    {
      "metadata": {
        "id": "-7xmWvBcKSSH",
        "colab_type": "code",
        "outputId": "e6e3251a-105a-4dd4-e567-fdd02676d311",
        "colab": {
          "base_uri": "https://localhost:8080/",
          "height": 1538
        }
      },
      "cell_type": "code",
      "source": [
        "margin = 1\n",
        "batch_size = 100\n",
        "\n",
        "resnet_50_hard_triplets = siamese_net(encoder_net=encoder, loss_margin=margin)\n",
        "\n",
        "optmzr = optim.Adam(resnet_50_hard_triplets.parameters(), lr=1e-3)\n",
        "\n",
        "embedds_preds = make_preds()\n",
        "train_model(model=resnet_50_hard_triplets, optimizer=optmzr, train_loader=train_loader, \n",
        "            num_epochs=10, model_name='resnet_50_hard_triplets_mg1', margin=margin, \n",
        "            val_loader=val_loader)"
      ],
      "execution_count": 35,
      "outputs": [
        {
          "output_type": "stream",
          "text": [
            "\n",
            " epoch= 2\n"
          ],
          "name": "stdout"
        },
        {
          "output_type": "display_data",
          "data": {
            "image/png": "[encoded data removed]",
            "text/plain": [
              "<Figure size 504x720 with 2 Axes>"
            ]
          },
          "metadata": {
            "tags": []
          }
        },
        {
          "output_type": "stream",
          "text": [
            "\rtraining: 132it [05:55,  2.67s/it]Traceback (most recent call last):\n",
            "  File \"/usr/lib/python3.6/multiprocessing/queues.py\", line 240, in _feed\n",
            "    send_bytes(obj)\n",
            "  File \"/usr/lib/python3.6/multiprocessing/connection.py\", line 200, in send_bytes\n",
            "    self._send_bytes(m[offset:offset + size])\n",
            "  File \"/usr/lib/python3.6/multiprocessing/connection.py\", line 404, in _send_bytes\n",
            "    self._send(header + buf)\n",
            "  File \"/usr/lib/python3.6/multiprocessing/connection.py\", line 368, in _send\n",
            "    n = write(self._handle, buf)\n",
            "BrokenPipeError: [Errno 32] Broken pipe\n",
            "Traceback (most recent call last):\n",
            "  File \"/usr/lib/python3.6/multiprocessing/queues.py\", line 240, in _feed\n",
            "    send_bytes(obj)\n",
            "  File \"/usr/lib/python3.6/multiprocessing/connection.py\", line 200, in send_bytes\n",
            "    self._send_bytes(m[offset:offset + size])\n",
            "  File \"/usr/lib/python3.6/multiprocessing/connection.py\", line 404, in _send_bytes\n",
            "    self._send(header + buf)\n",
            "  File \"/usr/lib/python3.6/multiprocessing/connection.py\", line 368, in _send\n",
            "    n = write(self._handle, buf)\n",
            "BrokenPipeError: [Errno 32] Broken pipe\n"
          ],
          "name": "stderr"
        },
        {
          "output_type": "error",
          "ename": "KeyboardInterrupt",
          "evalue": "ignored",
          "traceback": [
            "\u001b[0;31m---------------------------------------------------------------------------\u001b[0m",
            "\u001b[0;31mKeyboardInterrupt\u001b[0m                         Traceback (most recent call last)",
            "\u001b[0;32m<ipython-input-35-670317844037>\u001b[0m in \u001b[0;36m<module>\u001b[0;34m()\u001b[0m\n\u001b[1;32m      9\u001b[0m train_model(model=resnet_50_hard_triplets, optimizer=optmzr, train_loader=train_loader, \n\u001b[1;32m     10\u001b[0m             \u001b[0mnum_epochs\u001b[0m\u001b[0;34m=\u001b[0m\u001b[0;36m10\u001b[0m\u001b[0;34m,\u001b[0m \u001b[0mmodel_name\u001b[0m\u001b[0;34m=\u001b[0m\u001b[0;34m'resnet_50_hard_triplets_mg1'\u001b[0m\u001b[0;34m,\u001b[0m \u001b[0mmargin\u001b[0m\u001b[0;34m=\u001b[0m\u001b[0mmargin\u001b[0m\u001b[0;34m,\u001b[0m\u001b[0;34m\u001b[0m\u001b[0;34m\u001b[0m\u001b[0m\n\u001b[0;32m---> 11\u001b[0;31m             val_loader=val_loader)\n\u001b[0m",
            "\u001b[0;32m<ipython-input-34-d73fb3f7e0bc>\u001b[0m in \u001b[0;36mtrain_model\u001b[0;34m(model, optimizer, train_loader, num_epochs, model_name, margin, val_loader)\u001b[0m\n\u001b[1;32m     14\u001b[0m             \u001b[0mx\u001b[0m\u001b[0;34m,\u001b[0m \u001b[0mlabels\u001b[0m \u001b[0;34m=\u001b[0m \u001b[0mx\u001b[0m\u001b[0;34m.\u001b[0m\u001b[0mto\u001b[0m\u001b[0;34m(\u001b[0m\u001b[0mcuda\u001b[0m\u001b[0;34m,\u001b[0m \u001b[0mnon_blocking\u001b[0m\u001b[0;34m=\u001b[0m\u001b[0;32mTrue\u001b[0m\u001b[0;34m)\u001b[0m\u001b[0;34m,\u001b[0m \u001b[0mlabels\u001b[0m\u001b[0;34m.\u001b[0m\u001b[0mto\u001b[0m\u001b[0;34m(\u001b[0m\u001b[0mcuda\u001b[0m\u001b[0;34m,\u001b[0m \u001b[0mnon_blocking\u001b[0m\u001b[0;34m=\u001b[0m\u001b[0;32mTrue\u001b[0m\u001b[0;34m)\u001b[0m\u001b[0;34m\u001b[0m\u001b[0;34m\u001b[0m\u001b[0m\n\u001b[1;32m     15\u001b[0m \u001b[0;34m\u001b[0m\u001b[0m\n\u001b[0;32m---> 16\u001b[0;31m             \u001b[0mloss\u001b[0m \u001b[0;34m=\u001b[0m \u001b[0mmodel\u001b[0m\u001b[0;34m.\u001b[0m\u001b[0mforward\u001b[0m\u001b[0;34m(\u001b[0m\u001b[0mx\u001b[0m\u001b[0;34m,\u001b[0m \u001b[0mlabels\u001b[0m\u001b[0;34m)\u001b[0m\u001b[0;34m\u001b[0m\u001b[0;34m\u001b[0m\u001b[0m\n\u001b[0m\u001b[1;32m     17\u001b[0m \u001b[0;34m\u001b[0m\u001b[0m\n\u001b[1;32m     18\u001b[0m             \u001b[0mloss\u001b[0m\u001b[0;34m.\u001b[0m\u001b[0mbackward\u001b[0m\u001b[0;34m(\u001b[0m\u001b[0;34m)\u001b[0m\u001b[0;34m\u001b[0m\u001b[0;34m\u001b[0m\u001b[0m\n",
            "\u001b[0;32m<ipython-input-22-536d14b821db>\u001b[0m in \u001b[0;36mforward\u001b[0;34m(self, x, labels, size_average)\u001b[0m\n\u001b[1;32m     25\u001b[0m         \u001b[0midentities_mask_neg\u001b[0m \u001b[0;34m=\u001b[0m \u001b[0midentities_matrix\u001b[0m \u001b[0;34m!=\u001b[0m \u001b[0;36m0\u001b[0m\u001b[0;34m\u001b[0m\u001b[0;34m\u001b[0m\u001b[0m\n\u001b[1;32m     26\u001b[0m         \u001b[0midentities_dist_neg\u001b[0m \u001b[0;34m=\u001b[0m \u001b[0mdistances\u001b[0m \u001b[0;34m*\u001b[0m \u001b[0midentities_mask_neg\u001b[0m\u001b[0;34m.\u001b[0m\u001b[0mtype\u001b[0m\u001b[0;34m(\u001b[0m\u001b[0mtorch\u001b[0m\u001b[0;34m.\u001b[0m\u001b[0mcuda\u001b[0m\u001b[0;34m.\u001b[0m\u001b[0mFloatTensor\u001b[0m\u001b[0;34m)\u001b[0m\u001b[0;34m\u001b[0m\u001b[0;34m\u001b[0m\u001b[0m\n\u001b[0;32m---> 27\u001b[0;31m         \u001b[0midentities_dist_neg\u001b[0m\u001b[0;34m[\u001b[0m\u001b[0midentities_dist_neg\u001b[0m \u001b[0;34m==\u001b[0m \u001b[0;36m0\u001b[0m\u001b[0;34m]\u001b[0m \u001b[0;34m=\u001b[0m \u001b[0;36m1e+3\u001b[0m \u001b[0;31m# needed just for not to brake min func\u001b[0m\u001b[0;34m\u001b[0m\u001b[0;34m\u001b[0m\u001b[0m\n\u001b[0m\u001b[1;32m     28\u001b[0m         \u001b[0mdist_neg\u001b[0m \u001b[0;34m=\u001b[0m \u001b[0mtorch\u001b[0m\u001b[0;34m.\u001b[0m\u001b[0mmin\u001b[0m\u001b[0;34m(\u001b[0m\u001b[0midentities_dist_neg\u001b[0m\u001b[0;34m,\u001b[0m \u001b[0mdim\u001b[0m\u001b[0;34m=\u001b[0m\u001b[0;34m-\u001b[0m\u001b[0;36m1\u001b[0m\u001b[0;34m)\u001b[0m\u001b[0;34m[\u001b[0m\u001b[0;36m0\u001b[0m\u001b[0;34m]\u001b[0m\u001b[0;34m\u001b[0m\u001b[0;34m\u001b[0m\u001b[0m\n\u001b[1;32m     29\u001b[0m \u001b[0;34m\u001b[0m\u001b[0m\n",
            "\u001b[0;31mKeyboardInterrupt\u001b[0m: "
          ]
        }
      ]
    },
    {
      "metadata": {
        "id": "jgUTRW5uzAuD",
        "colab_type": "code",
        "colab": {}
      },
      "cell_type": "code",
      "source": [
        "  "
      ],
      "execution_count": 0,
      "outputs": []
    },
    {
      "metadata": {
        "id": "gTPWCOw4MAsv",
        "colab_type": "code",
        "colab": {}
      },
      "cell_type": "code",
      "source": [
        "# # training on all train set\n",
        "\n",
        "# siamese_tst_sub = siamese_net(encoder_net=resnet50)\n",
        "# # optmzr = optim.Adam(siamese_tst_sub.parameters(), lr=1e-3)\n",
        "\n",
        "# state_path = gdrive_path + 'sub_margin_06_state.pth'\n",
        "# state = torch.load(state_path)\n",
        "\n",
        "# siamese_tst_sub.load_state_dict(state['model'])\n",
        "# # optmzr.load_state_dict(state['optimizer'])"
      ],
      "execution_count": 0,
      "outputs": []
    },
    {
      "metadata": {
        "id": "0bYLoa0eKSdc",
        "colab_type": "code",
        "colab": {}
      },
      "cell_type": "code",
      "source": [
        "# # training on all train set\n",
        "\n",
        "# train_dataset = WhaleDataset(dataset_folder='./whale/train_resized/', \n",
        "#                              labels_df=labels_without_singles, # new_train_labels_without | val_labels_df\n",
        "#                              mode='train', \n",
        "#                              transform=data_transforms)\n",
        "\n",
        "# batch_size = 32 # 2 ** 5\n",
        "# # print('batch_size =', batch_size)\n",
        "# train_loader = torch.utils.data.DataLoader(dataset=train_dataset, \n",
        "#                                            batch_size=batch_size, \n",
        "#                                            shuffle=True, \n",
        "#                                            num_workers=3)\n",
        "\n",
        "# # siamese_tst_sub = siamese_net(encoder_net=resnet50)\n",
        "# # optmzr = optim.Adam(siamese_tst_sub.parameters(), lr=1e-3)\n",
        "\n",
        "# train_model(model=enc_resnet_50_without_nw, optimizer=optmzr, train_loader=train_loader, \n",
        "#             num_epochs=3, model_name='enc_resnet_50_without_nw_test', val_loader=None)"
      ],
      "execution_count": 0,
      "outputs": []
    },
    {
      "metadata": {
        "id": "5luB1CWGPs9V",
        "colab_type": "code",
        "colab": {}
      },
      "cell_type": "code",
      "source": [
        ""
      ],
      "execution_count": 0,
      "outputs": []
    },
    {
      "metadata": {
        "id": "eDpj0QrKW1Ee",
        "colab_type": "text"
      },
      "cell_type": "markdown",
      "source": [
        "# Validation or testing"
      ]
    },
    {
      "metadata": {
        "id": "hUpuMVFvW48T",
        "colab_type": "code",
        "outputId": "4788bc4e-3bf5-45c8-feba-ce24672a05dc",
        "colab": {
          "base_uri": "https://localhost:8080/",
          "height": 34
        }
      },
      "cell_type": "code",
      "source": [
        "# resnet50 = models.resnet50(pretrained=True)\n",
        "\n",
        "# testing_model = siamese_net(encoder_net=resnet50)\n",
        "# testing_model.load_state_dict(torch.load(gdrive_path + 'enc_resnet_50_without_nw_test_state.pth')['model'])\n",
        "\n",
        "# testing_model.to(cuda)\n",
        "# testing_model.eval()\n",
        "# ;"
      ],
      "execution_count": 0,
      "outputs": [
        {
          "output_type": "execute_result",
          "data": {
            "text/plain": [
              "''"
            ]
          },
          "metadata": {
            "tags": []
          },
          "execution_count": 33
        }
      ]
    },
    {
      "metadata": {
        "id": "uRYuKUszW5K5",
        "colab_type": "code",
        "colab": {}
      },
      "cell_type": "code",
      "source": [
        "embedds_preds = make_preds()"
      ],
      "execution_count": 0,
      "outputs": []
    },
    {
      "metadata": {
        "id": "YrEmMDdnXZWz",
        "colab_type": "code",
        "outputId": "e5646bc1-9c99-4137-a373-32ad5f64be96",
        "colab": {
          "base_uri": "https://localhost:8080/",
          "height": 34
        }
      },
      "cell_type": "code",
      "source": [
        "embedds_preds.calc_embeddings(model=testing_model, \n",
        "                              embedding_type='train',\n",
        "                              dataset_folder='./whale/train_resized/', \n",
        "                              labels_df=labels, # new_train_labels_with | labels\n",
        "                              transforms=data_transforms)\n",
        "\n",
        "embedds_preds.calc_embeddings(model=testing_model, \n",
        "                              embedding_type='test',\n",
        "                              dataset_folder='./whale/test_resized/', # './whale/train/' | /whale/test/\n",
        "                              labels_df=test_df, # val_labels_df | test_df\n",
        "                              transforms=data_transforms)\n",
        "\n",
        "embedds_preds.get_distances(batch_dist_size=20)"
      ],
      "execution_count": 0,
      "outputs": [
        {
          "output_type": "stream",
          "text": [
            "calc embeddings: 100%|██████████| 793/793 [03:02<00:00,  4.32it/s]\n"
          ],
          "name": "stderr"
        }
      ]
    },
    {
      "metadata": {
        "id": "RUlOitCfXZgX",
        "colab_type": "code",
        "colab": {}
      },
      "cell_type": "code",
      "source": [
        "preds = embedds_preds.get_preds()"
      ],
      "execution_count": 0,
      "outputs": []
    },
    {
      "metadata": {
        "id": "HBnhzSSVsS7Y",
        "colab_type": "code",
        "colab": {}
      },
      "cell_type": "code",
      "source": [
        "# preds"
      ],
      "execution_count": 0,
      "outputs": []
    },
    {
      "metadata": {
        "id": "MHr4m8gJuTEZ",
        "colab_type": "code",
        "colab": {}
      },
      "cell_type": "code",
      "source": [
        "# map_per_set(val_labels_df['Id'].values.tolist(), preds.tolist())"
      ],
      "execution_count": 0,
      "outputs": []
    },
    {
      "metadata": {
        "id": "YHnoOehdsTMV",
        "colab_type": "code",
        "colab": {}
      },
      "cell_type": "code",
      "source": [
        ""
      ],
      "execution_count": 0,
      "outputs": []
    },
    {
      "metadata": {
        "id": "rjEJBCrMsUK-",
        "colab_type": "text"
      },
      "cell_type": "markdown",
      "source": [
        "## TSNE train embeddings"
      ]
    },
    {
      "metadata": {
        "id": "6Z6DXJ1-iVWE",
        "colab_type": "code",
        "colab": {}
      },
      "cell_type": "code",
      "source": [
        "# from sklearn.manifold import TSNE\n",
        "\n",
        "# train_embdds = embedds_preds.train_embdds.to(cpu).numpy()\n",
        "\n",
        "# chosen_indxs = np.random.choice(np.arange(len(train_embdds)), size = 1500)\n",
        "# train_embdds_chosen = train_embdds[chosen_indxs]\n",
        "\n",
        "# embedds_tsned = TSNE().fit_transform(X=train_embdds_chosen)"
      ],
      "execution_count": 0,
      "outputs": []
    },
    {
      "metadata": {
        "id": "-SggHMQomvla",
        "colab_type": "code",
        "outputId": "b4997f09-8c90-4080-a667-2c33962e51cb",
        "colab": {
          "base_uri": "https://localhost:8080/",
          "height": 395
        }
      },
      "cell_type": "code",
      "source": [
        "# fig, ax = plt.subplots(1, 1, figsize=(10, 6))\n",
        "# sns.scatterplot(embedds_tsned[:, 0], \n",
        "#                 embedds_tsned[:, 1], \n",
        "#                 labels['Id_enc'][chosen_indxs].values, \n",
        "#                 ax=ax)\n",
        "# ;"
      ],
      "execution_count": 0,
      "outputs": [
        {
          "output_type": "execute_result",
          "data": {
            "text/plain": [
              "''"
            ]
          },
          "metadata": {
            "tags": []
          },
          "execution_count": 47
        },
        {
          "output_type": "display_data",
          "data": {
            "image/png": "[encoded data removed]",
            "text/plain": [
              "<Figure size 720x432 with 1 Axes>"
            ]
          },
          "metadata": {
            "tags": []
          }
        }
      ]
    },
    {
      "metadata": {
        "id": "31GRzN-rXiWz",
        "colab_type": "code",
        "colab": {}
      },
      "cell_type": "code",
      "source": [
        ""
      ],
      "execution_count": 0,
      "outputs": []
    },
    {
      "metadata": {
        "id": "tAwqcdnAoZtH",
        "colab_type": "text"
      },
      "cell_type": "markdown",
      "source": [
        "# Make submission"
      ]
    },
    {
      "metadata": {
        "id": "ZUCFHUJ6W5WX",
        "colab_type": "code",
        "outputId": "c745f6c7-5e84-4389-fea8-8fc904a4f6f1",
        "colab": {
          "base_uri": "https://localhost:8080/",
          "height": 142
        }
      },
      "cell_type": "code",
      "source": [
        "sub = pd.read_csv('./whale/sample_submission.csv')\n",
        "sub_num = sub.shape[0]\n",
        "\n",
        "# не провафлить preds\n",
        "my_preds = pd.DataFrame({'Image': test_df['Image'].values, \n",
        "                         'Id': [*map(lambda x: ' '.join(x), preds)]})\n",
        "\n",
        "sub = sub.drop('Id', axis=1)\n",
        "sub = pd.merge(sub, my_preds, on='Image')\n",
        "\n",
        "assert sub.shape[0] == sub_num, \\\n",
        "    'There is something wrong with submission file shape!'\n",
        "\n",
        "sub.to_csv('/content/whale/submission.csv', index=False)\n",
        "\n",
        "sub.head(3)"
      ],
      "execution_count": 0,
      "outputs": [
        {
          "output_type": "execute_result",
          "data": {
            "text/html": [
              "<div>\n",
              "<style scoped>\n",
              "    .dataframe tbody tr th:only-of-type {\n",
              "        vertical-align: middle;\n",
              "    }\n",
              "\n",
              "    .dataframe tbody tr th {\n",
              "        vertical-align: top;\n",
              "    }\n",
              "\n",
              "    .dataframe thead th {\n",
              "        text-align: right;\n",
              "    }\n",
              "</style>\n",
              "<table border=\"1\" class=\"dataframe\">\n",
              "  <thead>\n",
              "    <tr style=\"text-align: right;\">\n",
              "      <th></th>\n",
              "      <th>Image</th>\n",
              "      <th>Id</th>\n",
              "    </tr>\n",
              "  </thead>\n",
              "  <tbody>\n",
              "    <tr>\n",
              "      <th>0</th>\n",
              "      <td>00028a005.jpg</td>\n",
              "      <td>w_9d840d6 w_89ad73e new_whale w_303a3c4 w_48a6027</td>\n",
              "    </tr>\n",
              "    <tr>\n",
              "      <th>1</th>\n",
              "      <td>000dcf7d8.jpg</td>\n",
              "      <td>new_whale w_716f64f w_e36b021 w_5c51475 w_307e5e9</td>\n",
              "    </tr>\n",
              "    <tr>\n",
              "      <th>2</th>\n",
              "      <td>000e7c7df.jpg</td>\n",
              "      <td>new_whale w_ff7a4ae w_a743e09 w_dc642b6 w_0182687</td>\n",
              "    </tr>\n",
              "  </tbody>\n",
              "</table>\n",
              "</div>"
            ],
            "text/plain": [
              "           Image                                                 Id\n",
              "0  00028a005.jpg  w_9d840d6 w_89ad73e new_whale w_303a3c4 w_48a6027\n",
              "1  000dcf7d8.jpg  new_whale w_716f64f w_e36b021 w_5c51475 w_307e5e9\n",
              "2  000e7c7df.jpg  new_whale w_ff7a4ae w_a743e09 w_dc642b6 w_0182687"
            ]
          },
          "metadata": {
            "tags": []
          },
          "execution_count": 108
        }
      ]
    },
    {
      "metadata": {
        "id": "VZ5-COpUW7dn",
        "colab_type": "code",
        "outputId": "08069eba-9705-40d0-e568-9c4ec0b2103b",
        "colab": {
          "base_uri": "https://localhost:8080/",
          "height": 245
        }
      },
      "cell_type": "code",
      "source": [
        "# ! kaggle competitions submit -c humpback-whale-identification -f /content/whale/submission.csv -m \"enc_resnet_50_without_nw\"\n",
        "\n",
        "# print()\n",
        "# time.sleep(20)\n",
        "\n",
        "# ! kaggle competitions submissions -c humpback-whale-identification"
      ],
      "execution_count": 0,
      "outputs": [
        {
          "output_type": "stream",
          "text": [
            "100% 498k/498k [00:02<00:00, 220kB/s]\n",
            "Successfully submitted to Humpback Whale Identification\n",
            "fileName          date                 description               status    publicScore  privateScore  \n",
            "----------------  -------------------  ------------------------  --------  -----------  ------------  \n",
            "submission.csv    2019-02-25 16:01:57  enc_resnet_50_without_nw  complete  0.210        None          \n",
            "submission_1.csv  2019-02-23 06:34:41  margin 0.6 - 1            complete  0.179        None          \n",
            "submission.csv    2019-02-22 14:50:33  First sub                 complete  0.207        None          \n"
          ],
          "name": "stdout"
        }
      ]
    },
    {
      "metadata": {
        "id": "OUlMXyZ0l7NJ",
        "colab_type": "code",
        "colab": {}
      },
      "cell_type": "code",
      "source": [
        ""
      ],
      "execution_count": 0,
      "outputs": []
    },
    {
      "metadata": {
        "id": "G9QoLQ_J1NwD",
        "colab_type": "text"
      },
      "cell_type": "markdown",
      "source": [
        "# TESTS_TESTS"
      ]
    },
    {
      "metadata": {
        "id": "AermJIXrgg3y",
        "colab_type": "code",
        "colab": {}
      },
      "cell_type": "code",
      "source": [
        "# # check objects size\n",
        "\n",
        "# def get_size(obj, seen=None):\n",
        "#     \"\"\"Recursively finds size of objects\"\"\"\n",
        "#     size = sys.getsizeof(obj)\n",
        "#     if seen is None:\n",
        "#         seen = set()\n",
        "#     obj_id = id(obj)\n",
        "#     if obj_id in seen:\n",
        "#         return 0\n",
        "#     # Important mark as seen *before* entering recursion to gracefully handle\n",
        "#     # self-referential objects\n",
        "#     seen.add(obj_id)\n",
        "#     if isinstance(obj, dict):\n",
        "#         size += sum([get_size(v, seen) for v in obj.values()])\n",
        "#         size += sum([get_size(k, seen) for k in obj.keys()])\n",
        "#     elif hasattr(obj, '__dict__'):\n",
        "#         size += get_size(obj.__dict__, seen)\n",
        "#     elif hasattr(obj, '__iter__') and not isinstance(obj, (str, bytes, bytearray)):\n",
        "#         size += sum([get_size(i, seen) for i in obj])\n",
        "#     return size\n",
        "\n",
        "# get_size(embedds_preds) / 1e+6"
      ],
      "execution_count": 0,
      "outputs": []
    },
    {
      "metadata": {
        "id": "yzPwyCVZptX7",
        "colab_type": "code",
        "colab": {}
      },
      "cell_type": "code",
      "source": [
        ""
      ],
      "execution_count": 0,
      "outputs": []
    },
    {
      "metadata": {
        "id": "U6M7PiCt1Sw-",
        "colab_type": "code",
        "colab": {}
      },
      "cell_type": "code",
      "source": [
        "# # put train images data into RAM (need ~33gb of RAM)\n",
        "\n",
        "# train_folder = './whale/train/'\n",
        "# train_data = {}\n",
        "\n",
        "# time_start = time.time()\n",
        "# for num, img_name in enumerate(os.listdir(train_folder)):\n",
        "#     if num == 5000:\n",
        "#         break\n",
        "#     img_load = cv2.imread(train_folder + img_name) # os.path.join(train_folder, img)\n",
        "#     train_data.update({img_name: img_load})\n",
        "# time_end = time.time()\n",
        "# print(time_end - time_start)\n",
        "\n",
        "# # put test images data into RAM\n",
        "# # test_folder = './whale/test/'\n",
        "# # test_data = {}\n",
        "\n",
        "# # for img_name in os.listdir(test_folder):\n",
        "# #     img_load = cv2.imread(test_folder + img_name)\n",
        "# #     test_data.update({img_name: img_load})"
      ],
      "execution_count": 0,
      "outputs": []
    },
    {
      "metadata": {
        "id": "TG84PJHip3QR",
        "colab_type": "code",
        "colab": {}
      },
      "cell_type": "code",
      "source": [
        ""
      ],
      "execution_count": 0,
      "outputs": []
    },
    {
      "metadata": {
        "id": "rClgGre7WRgU",
        "colab_type": "code",
        "colab": {}
      },
      "cell_type": "code",
      "source": [
        "# # try to calc distance\n",
        "# print('train shape:', embeddings_train_with_lonelies.shape)\n",
        "# print('val shape:', embeddings_val.shape)\n",
        "\n",
        "\n",
        "# # first 5 embeddings:\n",
        "# print('first 5 embeddings shape:', \n",
        "#       embeddings_val[0:5, :].reshape((-1, 1, 1000)).shape)\n",
        "\n",
        "# tst_diff = (embeddings_val[0:5, :].reshape((-1, 1, 1000)) - embeddings_train_with_lonelies)\n",
        "# print('first 5 embeddings after diff shape:', \n",
        "#       tst_diff.shape)\n",
        "\n",
        "# np.linalg.norm(tst_diff, axis=-1).shape"
      ],
      "execution_count": 0,
      "outputs": []
    },
    {
      "metadata": {
        "id": "tlwzEiT9WUDm",
        "colab_type": "code",
        "colab": {}
      },
      "cell_type": "code",
      "source": [
        ""
      ],
      "execution_count": 0,
      "outputs": []
    },
    {
      "metadata": {
        "id": "7Fbc0hKsWUTO",
        "colab_type": "code",
        "colab": {}
      },
      "cell_type": "code",
      "source": [
        "# # время расчета разностей всех из трейна со всеми из валидации (in sec.)\n",
        "# print(4.68 / 1000 * 20861)\n",
        "\n",
        "\n",
        "# # падает по памяти\n",
        "# # embeddings_train_with_lonelies[0:5000, :].reshape((-1, 1, 1000)).shape\n",
        "# # tst = embeddings_train_with_lonelies[0:5000, :].reshape((-1, 1, 1000)) - embeddings_val\n",
        "\n",
        "# # size of array (2086, 4500, 1000) in GBs\n",
        "# print(20861 * 4500 * 1000 * 1 / 8e+9)"
      ],
      "execution_count": 0,
      "outputs": []
    },
    {
      "metadata": {
        "id": "rp9k5F0iWR4A",
        "colab_type": "code",
        "colab": {}
      },
      "cell_type": "code",
      "source": [
        ""
      ],
      "execution_count": 0,
      "outputs": []
    },
    {
      "metadata": {
        "id": "FX0IOlfdabEp",
        "colab_type": "code",
        "colab": {}
      },
      "cell_type": "code",
      "source": [
        "# torch.save(siamese_tst.state_dict(), '/gdrive/My Drive/Colab_notebooks/Kaggle/Whales_classification/siamese_tst.pth')\n",
        "\n",
        "# model = TheModelClass(*args, **kwargs)\n",
        "# siamese_tst.load_state_dict(torch.load('/gdrive/My Drive/Colab_notebooks/Kaggle/Whales_classification/model_test.pth'))\n",
        "# model.train() or model.eval()"
      ],
      "execution_count": 0,
      "outputs": []
    },
    {
      "metadata": {
        "id": "Vzlo3g00abNm",
        "colab_type": "code",
        "colab": {}
      },
      "cell_type": "code",
      "source": [
        ""
      ],
      "execution_count": 0,
      "outputs": []
    },
    {
      "metadata": {
        "colab_type": "code",
        "id": "PUGRFrovp_BV",
        "colab": {}
      },
      "cell_type": "code",
      "source": [
        "# torch.cuda.memory_allocated(cuda)\n",
        "# torch.cuda.memory_cached(cuda)"
      ],
      "execution_count": 0,
      "outputs": []
    },
    {
      "metadata": {
        "id": "W2A43w3WqFgz",
        "colab_type": "code",
        "colab": {}
      },
      "cell_type": "code",
      "source": [
        "# tst_train_embdds = torch.Tensor(embedds_preds.train_embdds[:1000, :])\n",
        "# tst_test_embdds = torch.Tenor(embedds_preds.test_embdds)"
      ],
      "execution_count": 0,
      "outputs": []
    },
    {
      "metadata": {
        "id": "Smn5MAtsqFXk",
        "colab_type": "code",
        "colab": {}
      },
      "cell_type": "code",
      "source": [
        ""
      ],
      "execution_count": 0,
      "outputs": []
    },
    {
      "metadata": {
        "id": "F2ixMZGKqLry",
        "colab_type": "code",
        "colab": {}
      },
      "cell_type": "code",
      "source": [
        "# # Dataset previous version\n",
        "\n",
        "# mean = [0.485, 0.456, 0.406]\n",
        "# std = [0.229, 0.224, 0.225]\n",
        "\n",
        "# data_transforms = transforms.Compose([\n",
        "#     transforms.ToPILImage(),\n",
        "#     transforms.Resize((224, 224)),\n",
        "#     transforms.ToTensor(),\n",
        "#     transforms.Normalize(mean, std)\n",
        "# ])\n",
        "\n",
        "# class WhaleDataset(Dataset):\n",
        "#     def __init__(self, dataset_folder, labels_df, \n",
        "#                  mode='train', transform=None): # , should_invert=True\n",
        "#         self.dataset_folder = dataset_folder\n",
        "# #         self.img_names_list = os.listdir(dataset_folder)\n",
        "#         self.labels_df = labels_df\n",
        "#         self.mode = mode\n",
        "        \n",
        "#         self.transform = transform\n",
        "# #         self.should_invert = should_invert\n",
        "\n",
        "#         if mode == 'train':\n",
        "#             self.labels_set = set(labels_df['Id_enc'])\n",
        "#             self.label_to_indices = {label: np.where(labels_df['Id_enc'] == label)[0]\n",
        "#                                      for label in self.labels_set}\n",
        "#         elif mode == 'val':\n",
        "#             self.labels_set = set(labels_df['Id_enc'])\n",
        "#             self.label_to_indices = {label: np.where(labels_df['Id_enc'] == label)[0]\n",
        "#                                      for label in self.labels_set}\n",
        "            \n",
        "#             random_state = np.random.RandomState(42)\n",
        "#             triplets = [[indx,\n",
        "#                          random_state.choice(self.label_to_indices[labels_df.iloc[indx]['Id_enc']]),\n",
        "#                          random_state.choice(self.label_to_indices[\n",
        "#                                                  np.random.choice(\n",
        "#                                                      list(self.labels_set - set([labels_df.iloc[indx]['Id_enc']]))\n",
        "#                                                  )\n",
        "#                                              ])\n",
        "#                         ]\n",
        "#                         for indx in labels_df.index]\n",
        "#             self.val_triplets = triplets\n",
        "# #         elif model == 'test':\n",
        "            \n",
        "\n",
        "#     def __len__(self):\n",
        "#         return self.labels_df.shape[0]\n",
        "    \n",
        "#     def __getitem__(self, index):\n",
        "#         if self.mode == 'train':\n",
        "# #             start_time = time.time()\n",
        "# #             img1_path = os.path.join(self.dataset_folder, self.labels_df['Image'][index])\n",
        "#             img1_path = self.dataset_folder + self.labels_df['Image'][index]\n",
        "# #             img1 = cv2.imread(img1_path) #.transpose((2, 0, 1))\n",
        "#             img1 = Image.open(img1_path).convert('RGB')\n",
        "#             label1 = self.labels_df['Id_enc'][index]\n",
        "            \n",
        "#             positive_index = index\n",
        "#             while positive_index == index:\n",
        "#                 positive_index = np.random.choice(self.label_to_indices[label1])\n",
        "#             negative_label = np.random.choice(list(self.labels_set - set([label1])))\n",
        "#             negative_index = np.random.choice(self.label_to_indices[negative_label])\n",
        "            \n",
        "# #             img2_path = os.path.join(self.dataset_folder, self.labels_df['Image'][positive_index])\n",
        "#             img2_path = self.dataset_folder + self.labels_df['Image'][positive_index]\n",
        "# #             img2 = cv2.imread(img2_path) #.transpose((2, 0, 1))\n",
        "#             img2 = Image.open(img2_path).convert('RGB')\n",
        "            \n",
        "# #             img3_path = os.path.join(self.dataset_folder, self.labels_df['Image'][negative_index])\n",
        "#             img3_path = self.dataset_folder + self.labels_df['Image'][negative_index]\n",
        "# #             img3 = cv2.imread(img3_path) #.transpose((2, 0, 1))\n",
        "#             img3 = Image.open(img3_path).convert('RGB')\n",
        "            \n",
        "# #             print(time.time() - start_time)\n",
        "        \n",
        "#         elif self.mode == 'val':\n",
        "# #             img1_path = os.path.join(self.dataset_folder, self.labels_df['Image'][self.val_triplets[index][0]])\n",
        "#             img1_path = self.dataset_folder + self.labels_df['Image'][self.val_triplets[index][0]]\n",
        "#             img1 = cv2.imread(img1_path)\n",
        "            \n",
        "# #             img2_path = os.path.join(self.dataset_folder, self.labels_df['Image'][self.val_triplets[index][1]])\n",
        "#             img2_path = self.dataset_folder + self.labels_df['Image'][self.val_triplets[index][1]]\n",
        "#             img2 = cv2.imread(img2_path)\n",
        "            \n",
        "# #             img3_path = os.path.join(self.dataset_folder, self.labels_df['Image'][self.val_triplets[index][2]])\n",
        "#             img3_path = self.dataset_folder + self.labels_df['Image'][self.val_triplets[index][2]]\n",
        "#             img3 = cv2.imread(img3_path)\n",
        "        \n",
        "#         elif self.mode == 'test':\n",
        "# #             img1_path = os.path.join(self.dataset_folder, self.labels_df['Image'][index])\n",
        "#             img1_path = self.dataset_folder + self.labels_df['Image'][index]\n",
        "#             img1 = cv2.imread(img1_path)\n",
        "            \n",
        "#             if self.transform is not None:\n",
        "#                 img1 = self.transform(img1)\n",
        "            \n",
        "#             return img1\n",
        "            \n",
        "#         if self.mode in ['train', 'val']:\n",
        "#             if self.transform is not None:\n",
        "#                 img1 = self.transform(img1)\n",
        "#                 img2 = self.transform(img2)\n",
        "#                 img3 = self.transform(img3)\n",
        "        \n",
        "#             return img1, img2, img3"
      ],
      "execution_count": 0,
      "outputs": []
    },
    {
      "metadata": {
        "id": "c1C8NWXBKdCG",
        "colab_type": "code",
        "colab": {}
      },
      "cell_type": "code",
      "source": [
        ""
      ],
      "execution_count": 0,
      "outputs": []
    },
    {
      "metadata": {
        "id": "E0G1cX6iKdO7",
        "colab_type": "code",
        "colab": {}
      },
      "cell_type": "code",
      "source": [
        "# # Class make_preds previous version\n",
        "\n",
        "# class make_preds():\n",
        "#     def __init__(self):\n",
        "#         self.dataset_folders = {'train': None, 'test': None}\n",
        "#         self.label_dfs = {'train': None, 'test': None}\n",
        "#         self.distances = None\n",
        "\n",
        "\n",
        "#     def calc_embeddings(self, model, embedding_type,\n",
        "#                        dataset_folder, labels_df, transforms, \n",
        "#                        batch_size=2**5, num_workers=4):\n",
        "#         assert embedding_type in ['train', 'test'], \\\n",
        "#             \"embedding_type must be in ['train', 'test']\"\n",
        "#         self.dataset_folders.update({embedding_type: labels_df})\n",
        "#         self.label_dfs.update({embedding_type: labels_df})\n",
        "        \n",
        "#         model.to(cuda)\n",
        "#         model.eval()\n",
        "\n",
        "#         test_dataset = WhaleDataset(dataset_folder=dataset_folder, \n",
        "#                                     labels_df=labels_df, \n",
        "#                                     mode='test', \n",
        "#                                     transform=transforms)\n",
        "#         inference_loader = torch.utils.data.DataLoader(dataset=test_dataset, \n",
        "#                                                        batch_size=batch_size, \n",
        "#                                                        shuffle=False, \n",
        "#                                                        num_workers=num_workers)\n",
        "\n",
        "#         embeddings = torch.Tensor().to(cuda)\n",
        "# #         embeddings = embeddings.to(cuda)\n",
        "\n",
        "#         for data in tqdm(inference_loader, desc='calc embeddings', position=0):\n",
        "#             data = data.to(cuda)\n",
        "\n",
        "#             with torch.no_grad():        \n",
        "#                 embd = model.get_embedding(data)\n",
        "#                 embeddings = torch.cat((embeddings, embd))\n",
        "        \n",
        "#         if embedding_type == 'train':\n",
        "#             self.train_embdds = embeddings #.to(cpu).numpy()\n",
        "#         elif embedding_type == 'test':\n",
        "#             self.test_embdds = embeddings #.to(cpu).numpy()\n",
        "        \n",
        "#         del test_dataset, inference_loader, data, embeddings\n",
        "\n",
        "\n",
        "#     def get_distances(self, batch_dist_size=20):\n",
        "#         self.num_train_embdds = self.train_embdds.shape[0]\n",
        "#         self.num_test_embdds = self.test_embdds.shape[0]\n",
        "#         self.len_embdd = self.test_embdds.shape[1]\n",
        "        \n",
        "# #         batch_indxs = np.arange(self.num_test_embdds).reshape((-1, minibatch_dist_size))\n",
        "# #         distances = np.array([]).reshape((0, self.num_train_embdds))\n",
        "#         batch_indxs = [*batch_gen(np.arange(self.num_test_embdds), \n",
        "#                                   batch_size=batch_dist_size)]\n",
        "#         distances = torch.Tensor([]).view((0, self.num_train_embdds)).to(cuda)\n",
        "        \n",
        "#         for batch in tqdm(batch_indxs, desc='calc distances', position=0):\n",
        "# #             diff = self.test_embdds[batch].reshape((-1, 1, self.len_embdd)) - self.train_embdds\n",
        "            \n",
        "# #             dist = np.linalg.norm(diff, axis=-1)\n",
        "# #             distances = np.concatenate((distances, dist))\n",
        "            \n",
        "#             dist = torch.norm((self.test_embdds[batch].view(-1, 1, 1000) - self.train_embdds), \n",
        "#                               dim=-1)\n",
        "#             distances = torch.cat((distances, dist))\n",
        "# #         map_calc_dist = partial(calc_dist, train_embdds=self.train_embdds)\n",
        "# #         with multiprocessing.dummy.Pool(num_cores) as pool:\n",
        "# #             distances = pool.map(map_calc_dist, self.test_embdds)\n",
        "        \n",
        "# #         self.distances = np.array(distances).reshape((self.num_test_embdds, \n",
        "# #                                                       self.num_train_embdds))\n",
        "        \n",
        "#         self.distances = distances.to(cpu).numpy()\n",
        "#         del distances # diff, dist, \n",
        "\n",
        "\n",
        "#     def get_preds(self, num_preds=5, agg_func='min'):\n",
        "# #         if self.distances is None:\n",
        "# #             self.get_distances(batch_dist_size)\n",
        "        \n",
        "#         distances = pd.DataFrame(self.distances.T)\n",
        "#         distances['label'] = self.label_dfs['train']['Id_enc'].values\n",
        "#         distances = distances.groupby('label').agg([agg_func]).values\n",
        "\n",
        "#         self.pred_indxs = np.argsort(distances.T)\n",
        "#         pred_labels = np.array([*map(lambda row: lblenc.inverse_transform(row), \n",
        "#                                      self.pred_indxs[:, 0:num_preds])])\n",
        "\n",
        "#         return pred_labels"
      ],
      "execution_count": 0,
      "outputs": []
    },
    {
      "metadata": {
        "id": "e-i2pbuw8Gjw",
        "colab_type": "code",
        "colab": {}
      },
      "cell_type": "code",
      "source": [
        ""
      ],
      "execution_count": 0,
      "outputs": []
    },
    {
      "metadata": {
        "id": "6C5fW3dKNhF-",
        "colab_type": "code",
        "colab": {}
      },
      "cell_type": "code",
      "source": [
        "# # Loop resizing\n",
        "\n",
        "# def resize(source_path, resized_path):\n",
        "#     for item in os.listdir(source_path):\n",
        "#         im = Image.open(source_path + item)\n",
        "#         f, _ = os.path.splitext(source_path + item)\n",
        "#         imResize = im.resize((256, 256), Image.ANTIALIAS)\n",
        "#         imResize.save(resized_path + item, 'JPEG', quality=95)\n",
        "\n",
        "# print(os.path.getsize('/content/whale/train/0000e88ab.jpg') / 1e+6)\n",
        "# print(os.path.getsize('/content/whale/train_resized/0000e88ab.jpg') / 1e+6)\n",
        "\n",
        "# ! mkdir /content/whale/train_resized/\n",
        "\n",
        "# resize(source_path='/content/whale/train/', \n",
        "#        resized_path='/content/whale/train_resized/')\n",
        "\n",
        "\n",
        "# # Multiprocessed resizing (not working)\n",
        "# def resize_mp(source_path, resized_path, num_workers=2):\n",
        "#     def res_save(item, source_path_nested, resized_path_nested):\n",
        "#         im = Image.open(source_path_nested + item)\n",
        "#         f, _ = os.path.splitext(source_path_nested + item)\n",
        "#         imResize = im.resize((224, 224), Image.ANTIALIAS)\n",
        "#         imResize.save(resized_path_nested + item, 'JPEG', quality=95)\n",
        "    \n",
        "#     res_save_item = partial(res_save, \n",
        "#                             source_path_nested=source_path, \n",
        "#                             resized_path_nested=resized_path)\n",
        "    \n",
        "#     with multiprocessing.Pool(num_workers) as p:\n",
        "#         p.map(res_save_item, os.listdir(source_path))\n",
        "\n",
        "# ! mkdir /content/whale/train_resized/\n",
        "\n",
        "# resize_mp(source_path='/content/whale/train/', \n",
        "#           resized_path='/content/whale/train_resized/', \n",
        "#           num_workers=num_cores)"
      ],
      "execution_count": 0,
      "outputs": []
    },
    {
      "metadata": {
        "id": "fFgEq66BVRRo",
        "colab_type": "code",
        "colab": {}
      },
      "cell_type": "code",
      "source": [
        ""
      ],
      "execution_count": 0,
      "outputs": []
    },
    {
      "metadata": {
        "id": "R4yIFlVlVRdv",
        "colab_type": "code",
        "colab": {}
      },
      "cell_type": "code",
      "source": [
        "# # freeze model params\n",
        "\n",
        "# for param in resnet50.parameters():\n",
        "#     param.requires_grad = False\n",
        "\n",
        "# for param in resnet50.fc.parameters():\n",
        "#     param.requires_grad = True"
      ],
      "execution_count": 0,
      "outputs": []
    },
    {
      "metadata": {
        "id": "omi-JeykVSO9",
        "colab_type": "code",
        "colab": {}
      },
      "cell_type": "code",
      "source": [
        ""
      ],
      "execution_count": 0,
      "outputs": []
    },
    {
      "metadata": {
        "id": "5X9VERZto9Ni",
        "colab_type": "code",
        "colab": {}
      },
      "cell_type": "code",
      "source": [
        "# # training on train set with validation part\n",
        "\n",
        "# new_train_dataset = WhaleDataset(dataset_folder='./whale/train_resized/', \n",
        "#                                  labels_df=new_train_labels_without, # new_train_labels_without | val_labels_df\n",
        "#                                  mode='train', \n",
        "#                                  transform=data_transforms)\n",
        "# val_dataset = WhaleDataset(dataset_folder='./whale/train_resized/', \n",
        "#                            labels_df=val_labels_df, \n",
        "#                            mode='val', \n",
        "#                            transform=data_transforms)\n",
        "\n",
        "# batch_size = 32\n",
        "# # 32 - good for ResNet50\n",
        "# # ?? 24 - (around) good for ResNet101\n",
        "\n",
        "# train_loader = torch.utils.data.DataLoader(dataset=new_train_dataset, \n",
        "#                                            batch_size=batch_size, \n",
        "#                                            shuffle=True, \n",
        "#                                            num_workers=4,\n",
        "#                                            pin_memory=True)\n",
        "# val_loader = torch.utils.data.DataLoader(dataset=val_dataset, \n",
        "#                                          batch_size=batch_size, \n",
        "#                                          shuffle=True, \n",
        "#                                          num_workers=4,\n",
        "#                                          pin_memory=True)"
      ],
      "execution_count": 0,
      "outputs": []
    },
    {
      "metadata": {
        "id": "YpdG5r0So9jd",
        "colab_type": "code",
        "colab": {}
      },
      "cell_type": "code",
      "source": [
        ""
      ],
      "execution_count": 0,
      "outputs": []
    }
  ]
}